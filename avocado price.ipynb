{
 "cells": [
  {
   "cell_type": "markdown",
   "metadata": {},
   "source": [
    "### Price predection using deep learning"
   ]
  },
  {
   "cell_type": "code",
   "execution_count": 2,
   "metadata": {},
   "outputs": [
    {
     "ename": "ImportError",
     "evalue": "cannot import name 'tensorflow_docs' from 'tensorflow' (C:\\ff\\envs\\tf\\lib\\site-packages\\tensorflow\\__init__.py)",
     "output_type": "error",
     "traceback": [
      "\u001b[1;31m---------------------------------------------------------------------------\u001b[0m",
      "\u001b[1;31mImportError\u001b[0m                               Traceback (most recent call last)",
      "\u001b[1;32m<ipython-input-2-2aad14897e6d>\u001b[0m in \u001b[0;36m<module>\u001b[1;34m\u001b[0m\n\u001b[0;32m      5\u001b[0m \u001b[1;32mfrom\u001b[0m \u001b[0mtensorflow\u001b[0m \u001b[1;32mimport\u001b[0m \u001b[0mkeras\u001b[0m\u001b[1;33m\u001b[0m\u001b[1;33m\u001b[0m\u001b[0m\n\u001b[0;32m      6\u001b[0m \u001b[1;32mfrom\u001b[0m \u001b[0mtensorflow\u001b[0m\u001b[1;33m.\u001b[0m\u001b[0mkeras\u001b[0m \u001b[1;32mimport\u001b[0m \u001b[0mlayers\u001b[0m\u001b[1;33m\u001b[0m\u001b[1;33m\u001b[0m\u001b[0m\n\u001b[1;32m----> 7\u001b[1;33m \u001b[1;32mfrom\u001b[0m \u001b[0mtensorflow\u001b[0m \u001b[1;32mimport\u001b[0m \u001b[0mtensorflow_docs\u001b[0m\u001b[1;33m\u001b[0m\u001b[1;33m\u001b[0m\u001b[0m\n\u001b[0m\u001b[0;32m      8\u001b[0m \u001b[1;32mimport\u001b[0m \u001b[0mtensorflow_docs\u001b[0m \u001b[1;32mas\u001b[0m \u001b[0mtfdocs\u001b[0m\u001b[1;33m\u001b[0m\u001b[1;33m\u001b[0m\u001b[0m\n\u001b[0;32m      9\u001b[0m \u001b[1;32mimport\u001b[0m \u001b[0mtensorflow_docs\u001b[0m\u001b[1;33m.\u001b[0m\u001b[0mmodeling\u001b[0m\u001b[1;33m\u001b[0m\u001b[1;33m\u001b[0m\u001b[0m\n",
      "\u001b[1;31mImportError\u001b[0m: cannot import name 'tensorflow_docs' from 'tensorflow' (C:\\ff\\envs\\tf\\lib\\site-packages\\tensorflow\\__init__.py)"
     ]
    }
   ],
   "source": [
    "import tensorflow as tf\n",
    "from tensorflow import keras\n",
    "import pandas as pd\n",
    "import numpy as np\n",
    "from tensorflow import keras\n",
    "from tensorflow.keras import layers\n",
    "from tensorflow import tensorflow_docs\n",
    "import tensorflow_docs as tfdocs\n",
    "import tensorflow_docs.modeling\n",
    "import matplotlib.pyplot as plt\n",
    "import seaborn as sns\n"
   ]
  },
  {
   "cell_type": "code",
   "execution_count": 3,
   "metadata": {},
   "outputs": [],
   "source": [
    "import pandas as pd\n",
    "import numpy as np"
   ]
  },
  {
   "cell_type": "markdown",
   "metadata": {},
   "source": [
    "Load the dataset"
   ]
  },
  {
   "cell_type": "code",
   "execution_count": 4,
   "metadata": {},
   "outputs": [
    {
     "name": "stdout",
     "output_type": "stream",
     "text": [
      "<bound method NDFrame.head of        AveragePrice  Total Volume  Total Bags  Small Bags  Large Bags  \\\n",
      "0              1.33      64236.62     8696.87     8603.62       93.25   \n",
      "1              1.35      54876.98     9505.56     9408.07       97.49   \n",
      "2              0.93     118220.22     8145.35     8042.21      103.14   \n",
      "3              1.08      78992.15     5811.16     5677.40      133.76   \n",
      "4              1.28      51039.60     6183.95     5986.26      197.69   \n",
      "...             ...           ...         ...         ...         ...   \n",
      "18244          1.63      17074.83    13498.67    13066.82      431.85   \n",
      "18245          1.71      13888.04     9264.84     8940.04      324.80   \n",
      "18246          1.87      13766.76     9394.11     9351.80       42.31   \n",
      "18247          1.93      16205.22    10969.54    10919.54       50.00   \n",
      "18248          1.62      17489.58    12014.15    11988.14       26.01   \n",
      "\n",
      "       XLarge Bags  year  \n",
      "0              0.0  2015  \n",
      "1              0.0  2015  \n",
      "2              0.0  2015  \n",
      "3              0.0  2015  \n",
      "4              0.0  2015  \n",
      "...            ...   ...  \n",
      "18244          0.0  2018  \n",
      "18245          0.0  2018  \n",
      "18246          0.0  2018  \n",
      "18247          0.0  2018  \n",
      "18248          0.0  2018  \n",
      "\n",
      "[18249 rows x 7 columns]>\n"
     ]
    }
   ],
   "source": [
    "data = pd.read_csv (r'avocado.csv')   \n",
    "print (data.head)"
   ]
  },
  {
   "cell_type": "markdown",
   "metadata": {},
   "source": [
    "convert the data type of the dataset"
   ]
  },
  {
   "cell_type": "code",
   "execution_count": 53,
   "metadata": {},
   "outputs": [],
   "source": [
    "data = data.astype(np.float32)\n"
   ]
  },
  {
   "cell_type": "code",
   "execution_count": 33,
   "metadata": {},
   "outputs": [],
   "source": [
    "data['year']=data['year'].astype('float64')\n"
   ]
  },
  {
   "cell_type": "markdown",
   "metadata": {},
   "source": [
    "Check if the data has missing values"
   ]
  },
  {
   "cell_type": "code",
   "execution_count": 30,
   "metadata": {},
   "outputs": [
    {
     "data": {
      "text/plain": [
       "Date            0\n",
       "AveragePrice    0\n",
       "Total Volume    0\n",
       "Total Bags      0\n",
       "Small Bags      0\n",
       "Large Bags      0\n",
       "XLarge Bags     0\n",
       "year            0\n",
       "dtype: int64"
      ]
     },
     "execution_count": 30,
     "metadata": {},
     "output_type": "execute_result"
    }
   ],
   "source": [
    "data.isna().sum()"
   ]
  },
  {
   "cell_type": "code",
   "execution_count": 62,
   "metadata": {},
   "outputs": [
    {
     "data": {
      "text/plain": [
       "AveragePrice    float32\n",
       "Total Volume    float32\n",
       "Total Bags      float32\n",
       "Small Bags      float32\n",
       "Large Bags      float32\n",
       "XLarge Bags     float32\n",
       "year            float32\n",
       "dtype: object"
      ]
     },
     "execution_count": 62,
     "metadata": {},
     "output_type": "execute_result"
    }
   ],
   "source": [
    "data.dtypes"
   ]
  },
  {
   "cell_type": "markdown",
   "metadata": {},
   "source": [
    "Split the dataset into test and train"
   ]
  },
  {
   "cell_type": "code",
   "execution_count": 63,
   "metadata": {},
   "outputs": [],
   "source": [
    "train_dataset = data.sample(frac=0.8,random_state=0)\n",
    "test_dataset = data.drop(train_dataset.index)"
   ]
  },
  {
   "cell_type": "code",
   "execution_count": 64,
   "metadata": {},
   "outputs": [
    {
     "data": {
      "text/plain": [
       "(14599, 7)"
      ]
     },
     "execution_count": 64,
     "metadata": {},
     "output_type": "execute_result"
    }
   ],
   "source": [
    "train_dataset.shape"
   ]
  },
  {
   "cell_type": "code",
   "execution_count": 65,
   "metadata": {},
   "outputs": [
    {
     "data": {
      "text/plain": [
       "(3650, 7)"
      ]
     },
     "execution_count": 65,
     "metadata": {},
     "output_type": "execute_result"
    }
   ],
   "source": [
    "test_dataset.shape"
   ]
  },
  {
   "cell_type": "markdown",
   "metadata": {},
   "source": [
    "Plot the variables"
   ]
  },
  {
   "cell_type": "code",
   "execution_count": 58,
   "metadata": {},
   "outputs": [
    {
     "data": {
      "text/plain": [
       "<seaborn.axisgrid.PairGrid at 0x1b376924208>"
      ]
     },
     "execution_count": 58,
     "metadata": {},
     "output_type": "execute_result"
    },
    {
     "data": {
      "image/png": "[encoded data removed]",
      "text/plain": [
       "<Figure size 540x540 with 12 Axes>"
      ]
     },
     "metadata": {
      "needs_background": "light"
     },
     "output_type": "display_data"
    }
   ],
   "source": [
    "sns.pairplot(train_dataset[[\"AveragePrice\", \"year\", \"Total Volume\"]], diag_kind=\"kde\")\n"
   ]
  },
  {
   "cell_type": "markdown",
   "metadata": {},
   "source": [
    "Drop the AveragePrice from train and test dataset"
   ]
  },
  {
   "cell_type": "code",
   "execution_count": 66,
   "metadata": {},
   "outputs": [],
   "source": [
    "train_labels = train_dataset.pop('AveragePrice')\n",
    "test_labels = test_dataset.pop('AveragePrice')"
   ]
  },
  {
   "cell_type": "code",
   "execution_count": 67,
   "metadata": {},
   "outputs": [
    {
     "data": {
      "text/plain": [
       "9181     1.48\n",
       "1013     1.05\n",
       "14625    1.27\n",
       "15234    2.15\n",
       "18247    1.93\n",
       "         ... \n",
       "3421     0.78\n",
       "9448     2.01\n",
       "2477     1.03\n",
       "18067    1.33\n",
       "12028    1.78\n",
       "Name: AveragePrice, Length: 14599, dtype: float32"
      ]
     },
     "execution_count": 67,
     "metadata": {},
     "output_type": "execute_result"
    }
   ],
   "source": [
    "train_labels"
   ]
  },
  {
   "cell_type": "code",
   "execution_count": 68,
   "metadata": {},
   "outputs": [
    {
     "data": {
      "text/plain": [
       "2        0.93\n",
       "3        1.08\n",
       "10       1.12\n",
       "19       1.33\n",
       "28       1.32\n",
       "         ... \n",
       "18216    1.52\n",
       "18223    1.59\n",
       "18233    1.80\n",
       "18237    1.62\n",
       "18241    1.57\n",
       "Name: AveragePrice, Length: 3650, dtype: float32"
      ]
     },
     "execution_count": 68,
     "metadata": {},
     "output_type": "execute_result"
    }
   ],
   "source": [
    "test_labels"
   ]
  },
  {
   "cell_type": "code",
   "execution_count": 69,
   "metadata": {},
   "outputs": [
    {
     "data": {
      "text/html": [
       "<div>\n",
       "<style scoped>\n",
       "    .dataframe tbody tr th:only-of-type {\n",
       "        vertical-align: middle;\n",
       "    }\n",
       "\n",
       "    .dataframe tbody tr th {\n",
       "        vertical-align: top;\n",
       "    }\n",
       "\n",
       "    .dataframe thead th {\n",
       "        text-align: right;\n",
       "    }\n",
       "</style>\n",
       "<table border=\"1\" class=\"dataframe\">\n",
       "  <thead>\n",
       "    <tr style=\"text-align: right;\">\n",
       "      <th></th>\n",
       "      <th>count</th>\n",
       "      <th>mean</th>\n",
       "      <th>std</th>\n",
       "      <th>min</th>\n",
       "      <th>25%</th>\n",
       "      <th>50%</th>\n",
       "      <th>75%</th>\n",
       "      <th>max</th>\n",
       "    </tr>\n",
       "  </thead>\n",
       "  <tbody>\n",
       "    <tr>\n",
       "      <th>Total Volume</th>\n",
       "      <td>14599.0</td>\n",
       "      <td>847665.062500</td>\n",
       "      <td>3.452565e+06</td>\n",
       "      <td>84.559998</td>\n",
       "      <td>10569.600098</td>\n",
       "      <td>104369.679688</td>\n",
       "      <td>424840.109375</td>\n",
       "      <td>6.103446e+07</td>\n",
       "    </tr>\n",
       "    <tr>\n",
       "      <th>Total Bags</th>\n",
       "      <td>14599.0</td>\n",
       "      <td>240084.750000</td>\n",
       "      <td>9.906858e+05</td>\n",
       "      <td>0.000000</td>\n",
       "      <td>4914.545166</td>\n",
       "      <td>38515.750000</td>\n",
       "      <td>109854.378906</td>\n",
       "      <td>1.639452e+07</td>\n",
       "    </tr>\n",
       "    <tr>\n",
       "      <th>Small Bags</th>\n",
       "      <td>14599.0</td>\n",
       "      <td>182425.921875</td>\n",
       "      <td>7.494745e+05</td>\n",
       "      <td>0.000000</td>\n",
       "      <td>2711.175049</td>\n",
       "      <td>25278.830078</td>\n",
       "      <td>83096.878906</td>\n",
       "      <td>1.256716e+07</td>\n",
       "    </tr>\n",
       "    <tr>\n",
       "      <th>Large Bags</th>\n",
       "      <td>14599.0</td>\n",
       "      <td>54582.105469</td>\n",
       "      <td>2.452326e+05</td>\n",
       "      <td>0.000000</td>\n",
       "      <td>124.530003</td>\n",
       "      <td>2622.780029</td>\n",
       "      <td>21910.164062</td>\n",
       "      <td>4.324231e+06</td>\n",
       "    </tr>\n",
       "    <tr>\n",
       "      <th>XLarge Bags</th>\n",
       "      <td>14599.0</td>\n",
       "      <td>3076.747803</td>\n",
       "      <td>1.762494e+04</td>\n",
       "      <td>0.000000</td>\n",
       "      <td>0.000000</td>\n",
       "      <td>0.000000</td>\n",
       "      <td>113.924999</td>\n",
       "      <td>5.516936e+05</td>\n",
       "    </tr>\n",
       "    <tr>\n",
       "      <th>year</th>\n",
       "      <td>14599.0</td>\n",
       "      <td>2016.147827</td>\n",
       "      <td>9.405907e-01</td>\n",
       "      <td>2015.000000</td>\n",
       "      <td>2015.000000</td>\n",
       "      <td>2016.000000</td>\n",
       "      <td>2017.000000</td>\n",
       "      <td>2.018000e+03</td>\n",
       "    </tr>\n",
       "  </tbody>\n",
       "</table>\n",
       "</div>"
      ],
      "text/plain": [
       "                count           mean           std          min           25%  \\\n",
       "Total Volume  14599.0  847665.062500  3.452565e+06    84.559998  10569.600098   \n",
       "Total Bags    14599.0  240084.750000  9.906858e+05     0.000000   4914.545166   \n",
       "Small Bags    14599.0  182425.921875  7.494745e+05     0.000000   2711.175049   \n",
       "Large Bags    14599.0   54582.105469  2.452326e+05     0.000000    124.530003   \n",
       "XLarge Bags   14599.0    3076.747803  1.762494e+04     0.000000      0.000000   \n",
       "year          14599.0    2016.147827  9.405907e-01  2015.000000   2015.000000   \n",
       "\n",
       "                        50%            75%           max  \n",
       "Total Volume  104369.679688  424840.109375  6.103446e+07  \n",
       "Total Bags     38515.750000  109854.378906  1.639452e+07  \n",
       "Small Bags     25278.830078   83096.878906  1.256716e+07  \n",
       "Large Bags      2622.780029   21910.164062  4.324231e+06  \n",
       "XLarge Bags        0.000000     113.924999  5.516936e+05  \n",
       "year            2016.000000    2017.000000  2.018000e+03  "
      ]
     },
     "execution_count": 69,
     "metadata": {},
     "output_type": "execute_result"
    }
   ],
   "source": [
    "train_stats= train_dataset.describe()\n",
    "\n",
    "train_stats = train_stats.transpose()\n",
    "train_stats"
   ]
  },
  {
   "cell_type": "code",
   "execution_count": 70,
   "metadata": {},
   "outputs": [
    {
     "data": {
      "text/plain": [
       "Total Volume    3.452565e+06\n",
       "Total Bags      9.906858e+05\n",
       "Small Bags      7.494745e+05\n",
       "Large Bags      2.452326e+05\n",
       "XLarge Bags     1.762494e+04\n",
       "year            9.405907e-01\n",
       "Name: std, dtype: float64"
      ]
     },
     "execution_count": 70,
     "metadata": {},
     "output_type": "execute_result"
    }
   ],
   "source": [
    "train_stats['std']"
   ]
  },
  {
   "cell_type": "markdown",
   "metadata": {},
   "source": [
    "Normalize the dataset"
   ]
  },
  {
   "cell_type": "code",
   "execution_count": 81,
   "metadata": {},
   "outputs": [],
   "source": [
    "def norm(x):\n",
    "  return (x - train_stats['mean']) / train_stats['std']\n",
    "normed_train_data = norm(train_dataset)\n",
    "normed_test_data = norm(test_dataset)"
   ]
  },
  {
   "cell_type": "markdown",
   "metadata": {},
   "source": [
    "Build the model and determine the number of layers and nodes"
   ]
  },
  {
   "cell_type": "code",
   "execution_count": 83,
   "metadata": {},
   "outputs": [],
   "source": [
    "def build_model():\n",
    "  model = keras.Sequential([\n",
    "    layers.Dense(64, activation='relu', input_shape=[len(train_dataset.keys())]),\n",
    "    layers.Dense(64, activation='relu'),\n",
    "    layers.Dense(1)\n",
    "  ])\n",
    "\n",
    "  optimizer = tf.keras.optimizers.RMSprop(0.001)\n",
    "\n",
    "  model.compile(loss='mse',\n",
    "                optimizer=optimizer,\n",
    "                metrics=['mae', 'mse'])\n",
    "  return model"
   ]
  },
  {
   "cell_type": "code",
   "execution_count": 84,
   "metadata": {},
   "outputs": [],
   "source": [
    "model = build_model()\n"
   ]
  },
  {
   "cell_type": "code",
   "execution_count": 85,
   "metadata": {},
   "outputs": [
    {
     "name": "stdout",
     "output_type": "stream",
     "text": [
      "Model: \"sequential_3\"\n",
      "_________________________________________________________________\n",
      "Layer (type)                 Output Shape              Param #   \n",
      "=================================================================\n",
      "dense_9 (Dense)              (None, 64)                448       \n",
      "_________________________________________________________________\n",
      "dense_10 (Dense)             (None, 64)                4160      \n",
      "_________________________________________________________________\n",
      "dense_11 (Dense)             (None, 1)                 65        \n",
      "=================================================================\n",
      "Total params: 4,673\n",
      "Trainable params: 4,673\n",
      "Non-trainable params: 0\n",
      "_________________________________________________________________\n"
     ]
    }
   ],
   "source": [
    "model.summary()\n"
   ]
  },
  {
   "cell_type": "code",
   "execution_count": 86,
   "metadata": {},
   "outputs": [
    {
     "data": {
      "text/plain": [
       "array([[-0.32105446],\n",
       "       [-0.30031663],\n",
       "       [-0.06700837],\n",
       "       [ 0.06606639],\n",
       "       [ 0.17898135],\n",
       "       [ 0.06534065],\n",
       "       [-0.08024953],\n",
       "       [-0.08031387],\n",
       "       [-0.08037165],\n",
       "       [-0.3154682 ]], dtype=float32)"
      ]
     },
     "execution_count": 86,
     "metadata": {},
     "output_type": "execute_result"
    }
   ],
   "source": [
    "example_batch = normed_train_data[:10]\n",
    "example_result = model.predict(example_batch)\n",
    "example_result"
   ]
  },
  {
   "cell_type": "code",
   "execution_count": 87,
   "metadata": {},
   "outputs": [
    {
     "name": "stdout",
     "output_type": "stream",
     "text": [
      "\n",
      "Epoch: 0, loss:0.1896,  mae:0.3237,  mse:0.1896,  val_loss:0.1165,  val_mae:0.2644,  val_mse:0.1165,  \n",
      "....................................................................................................\n",
      "Epoch: 100, loss:0.0793,  mae:0.2105,  mse:0.0793,  val_loss:0.0786,  val_mae:0.2107,  val_mse:0.0786,  \n",
      "....................................................................................................\n",
      "Epoch: 200, loss:0.0755,  mae:0.2038,  mse:0.0755,  val_loss:0.0788,  val_mae:0.2087,  val_mse:0.0788,  \n",
      "....................................................................................................\n",
      "Epoch: 300, loss:0.0729,  mae:0.1994,  mse:0.0729,  val_loss:0.0755,  val_mae:0.2048,  val_mse:0.0755,  \n",
      "....................................................................................................\n",
      "Epoch: 400, loss:0.0715,  mae:0.1967,  mse:0.0715,  val_loss:0.0798,  val_mae:0.2076,  val_mse:0.0798,  \n",
      "....................................................................................................\n",
      "Epoch: 500, loss:0.0699,  mae:0.1948,  mse:0.0699,  val_loss:0.0761,  val_mae:0.2038,  val_mse:0.0761,  \n",
      "....................................................................................................\n",
      "Epoch: 600, loss:0.0694,  mae:0.1930,  mse:0.0694,  val_loss:0.0772,  val_mae:0.2033,  val_mse:0.0772,  \n",
      "....................................................................................................\n",
      "Epoch: 700, loss:0.0681,  mae:0.1905,  mse:0.0681,  val_loss:0.0765,  val_mae:0.2046,  val_mse:0.0765,  \n",
      "....................................................................................................\n",
      "Epoch: 800, loss:0.0677,  mae:0.1900,  mse:0.0677,  val_loss:0.0723,  val_mae:0.1998,  val_mse:0.0723,  \n",
      "....................................................................................................\n",
      "Epoch: 900, loss:0.0665,  mae:0.1881,  mse:0.0665,  val_loss:0.0867,  val_mae:0.2164,  val_mse:0.0867,  \n",
      "...................................................................................................."
     ]
    }
   ],
   "source": [
    "EPOCHS = 1000\n",
    "\n",
    "history = model.fit(\n",
    "  normed_train_data, train_labels,\n",
    "  epochs=EPOCHS, validation_split = 0.2, verbose=0,\n",
    "  callbacks=[tfdocs.modeling.EpochDots()])\n"
   ]
  },
  {
   "cell_type": "code",
   "execution_count": 88,
   "metadata": {},
   "outputs": [
    {
     "data": {
      "text/html": [
       "<div>\n",
       "<style scoped>\n",
       "    .dataframe tbody tr th:only-of-type {\n",
       "        vertical-align: middle;\n",
       "    }\n",
       "\n",
       "    .dataframe tbody tr th {\n",
       "        vertical-align: top;\n",
       "    }\n",
       "\n",
       "    .dataframe thead th {\n",
       "        text-align: right;\n",
       "    }\n",
       "</style>\n",
       "<table border=\"1\" class=\"dataframe\">\n",
       "  <thead>\n",
       "    <tr style=\"text-align: right;\">\n",
       "      <th></th>\n",
       "      <th>loss</th>\n",
       "      <th>mae</th>\n",
       "      <th>mse</th>\n",
       "      <th>val_loss</th>\n",
       "      <th>val_mae</th>\n",
       "      <th>val_mse</th>\n",
       "      <th>epoch</th>\n",
       "    </tr>\n",
       "  </thead>\n",
       "  <tbody>\n",
       "    <tr>\n",
       "      <th>995</th>\n",
       "      <td>0.066383</td>\n",
       "      <td>0.188204</td>\n",
       "      <td>0.066383</td>\n",
       "      <td>0.073688</td>\n",
       "      <td>0.203699</td>\n",
       "      <td>0.073688</td>\n",
       "      <td>995</td>\n",
       "    </tr>\n",
       "    <tr>\n",
       "      <th>996</th>\n",
       "      <td>0.066186</td>\n",
       "      <td>0.188129</td>\n",
       "      <td>0.066186</td>\n",
       "      <td>0.077025</td>\n",
       "      <td>0.203403</td>\n",
       "      <td>0.077025</td>\n",
       "      <td>996</td>\n",
       "    </tr>\n",
       "    <tr>\n",
       "      <th>997</th>\n",
       "      <td>0.065965</td>\n",
       "      <td>0.187340</td>\n",
       "      <td>0.065965</td>\n",
       "      <td>0.073758</td>\n",
       "      <td>0.201730</td>\n",
       "      <td>0.073758</td>\n",
       "      <td>997</td>\n",
       "    </tr>\n",
       "    <tr>\n",
       "      <th>998</th>\n",
       "      <td>0.066245</td>\n",
       "      <td>0.188050</td>\n",
       "      <td>0.066245</td>\n",
       "      <td>0.072868</td>\n",
       "      <td>0.201725</td>\n",
       "      <td>0.072868</td>\n",
       "      <td>998</td>\n",
       "    </tr>\n",
       "    <tr>\n",
       "      <th>999</th>\n",
       "      <td>0.065885</td>\n",
       "      <td>0.187469</td>\n",
       "      <td>0.065885</td>\n",
       "      <td>0.076469</td>\n",
       "      <td>0.203978</td>\n",
       "      <td>0.076469</td>\n",
       "      <td>999</td>\n",
       "    </tr>\n",
       "  </tbody>\n",
       "</table>\n",
       "</div>"
      ],
      "text/plain": [
       "         loss       mae       mse  val_loss   val_mae   val_mse  epoch\n",
       "995  0.066383  0.188204  0.066383  0.073688  0.203699  0.073688    995\n",
       "996  0.066186  0.188129  0.066186  0.077025  0.203403  0.077025    996\n",
       "997  0.065965  0.187340  0.065965  0.073758  0.201730  0.073758    997\n",
       "998  0.066245  0.188050  0.066245  0.072868  0.201725  0.072868    998\n",
       "999  0.065885  0.187469  0.065885  0.076469  0.203978  0.076469    999"
      ]
     },
     "execution_count": 88,
     "metadata": {},
     "output_type": "execute_result"
    }
   ],
   "source": [
    "hist = pd.DataFrame(history.history)\n",
    "hist['epoch'] = history.epoch\n",
    "hist.tail()"
   ]
  },
  {
   "cell_type": "code",
   "execution_count": 103,
   "metadata": {},
   "outputs": [
    {
     "data": {
      "text/plain": [
       "Text(0, 0.5, 'MAE [AveragePrice]')"
      ]
     },
     "execution_count": 103,
     "metadata": {},
     "output_type": "execute_result"
    },
    {
     "data": {
      "image/png": "[encoded data removed]",
      "text/plain": [
       "<Figure size 432x288 with 1 Axes>"
      ]
     },
     "metadata": {
      "needs_background": "light"
     },
     "output_type": "display_data"
    }
   ],
   "source": [
    "plotter = tfdocs.plots.HistoryPlotter(smoothing_std=2)\n",
    "plotter.plot({'Basic': history}, metric = \"mae\")\n",
    "plt.ylim([0, 10])\n",
    "plt.ylabel('MAE [AveragePrice]')\n"
   ]
  },
  {
   "cell_type": "code",
   "execution_count": 100,
   "metadata": {},
   "outputs": [
    {
     "data": {
      "text/plain": [
       "Text(0, 0.5, 'MSE [AveragePrice^2]')"
      ]
     },
     "execution_count": 100,
     "metadata": {},
     "output_type": "execute_result"
    },
    {
     "data": {
      "image/png": "[encoded data removed]",
      "text/plain": [
       "<Figure size 432x288 with 1 Axes>"
      ]
     },
     "metadata": {
      "needs_background": "light"
     },
     "output_type": "display_data"
    }
   ],
   "source": [
    "plotter.plot({'Basic': history}, metric = \"mse\")\n",
    "plt.ylim([0, 20])\n",
    "plt.ylabel('MSE [AveragePrice^2]')"
   ]
  },
  {
   "cell_type": "code",
   "execution_count": 104,
   "metadata": {},
   "outputs": [
    {
     "name": "stdout",
     "output_type": "stream",
     "text": [
      "\n",
      "Epoch: 0, loss:0.1776,  mae:0.3160,  mse:0.1776,  val_loss:0.1121,  val_mae:0.2586,  val_mse:0.1121,  \n",
      "..................................................."
     ]
    }
   ],
   "source": [
    "model = build_model()\n",
    "\n",
    "# The patience parameter is the amount of epochs to check for improvement\n",
    "early_stop = keras.callbacks.EarlyStopping(monitor='val_loss', patience=10)\n",
    "\n",
    "early_history = model.fit(normed_train_data, train_labels, \n",
    "                    epochs=EPOCHS, validation_split = 0.2, verbose=0, \n",
    "                    callbacks=[early_stop, tfdocs.modeling.EpochDots()])"
   ]
  },
  {
   "cell_type": "code",
   "execution_count": 106,
   "metadata": {},
   "outputs": [
    {
     "name": "stdout",
     "output_type": "stream",
     "text": [
      "3650/3650 - 0s - loss: 0.0804 - mae: 0.2154 - mse: 0.0804\n",
      "Testing set Mean Abs Error:  0.22 AveragePrice\n"
     ]
    }
   ],
   "source": [
    "loss, mae, mse = model.evaluate(normed_test_data, test_labels, verbose=2)\n",
    "\n",
    "print(\"Testing set Mean Abs Error: {:5.2f} AveragePrice\".format(mae))"
   ]
  },
  {
   "cell_type": "code",
   "execution_count": 109,
   "metadata": {},
   "outputs": [
    {
     "data": {
      "image/png": "[encoded data removed]",
      "text/plain": [
       "<Figure size 432x288 with 1 Axes>"
      ]
     },
     "metadata": {
      "needs_background": "light"
     },
     "output_type": "display_data"
    }
   ],
   "source": [
    "test_predictions = model.predict(normed_test_data).flatten()\n",
    "\n",
    "a = plt.axes(aspect='equal')\n",
    "plt.scatter(test_labels, test_predictions)\n",
    "plt.xlabel('True Values [AveragePrice]')\n",
    "plt.ylabel('Predictions [AveragePrice]')\n",
    "lims = [0, 5]\n",
    "plt.xlim(lims)\n",
    "plt.ylim(lims)\n",
    "_ = plt.plot(lims, lims)"
   ]
  },
  {
   "cell_type": "markdown",
   "metadata": {},
   "source": [
    "Evaluate the model"
   ]
  },
  {
   "cell_type": "code",
   "execution_count": 111,
   "metadata": {},
   "outputs": [
    {
     "data": {
      "image/png": "[encoded data removed]",
      "text/plain": [
       "<Figure size 432x288 with 1 Axes>"
      ]
     },
     "metadata": {
      "needs_background": "light"
     },
     "output_type": "display_data"
    }
   ],
   "source": [
    "error = test_predictions - test_labels\n",
    "plt.hist(error, bins = 25)\n",
    "plt.xlabel(\"Prediction Error [AveragePrice]\")\n",
    "_ = plt.ylabel(\"Count\")"
   ]
  },
  {
   "cell_type": "code",
   "execution_count": null,
   "metadata": {},
   "outputs": [],
   "source": [
    "Conclusion: In this code, we build model based on Keras"
   ]
  }
 ],
 "metadata": {
  "kernelspec": {
   "display_name": "Python 3",
   "language": "python",
   "name": "python3"
  },
  "language_info": {
   "codemirror_mode": {
    "name": "ipython",
    "version": 3
   },
   "file_extension": ".py",
   "mimetype": "text/x-python",
   "name": "python",
   "nbconvert_exporter": "python",
   "pygments_lexer": "ipython3",
   "version": "3.7.7"
  }
 },
 "nbformat": 4,
 "nbformat_minor": 4
}
