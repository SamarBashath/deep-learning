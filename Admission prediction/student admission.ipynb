{
 "cells": [
  {
   "cell_type": "markdown",
   "metadata": {},
   "source": [
    "### student admission predection using deep learning"
   ]
  },
  {
   "cell_type": "markdown",
   "metadata": {},
   "source": [
    "Load packages"
   ]
  },
  {
   "cell_type": "code",
   "execution_count": 1,
   "metadata": {},
   "outputs": [],
   "source": [
    "import pandas as pd\n",
    "import numpy as np\n",
    "import seaborn as sns\n",
    "import tensorflow as tf\n",
    "from tensorflow import keras\n",
    "from tensorflow import keras\n",
    "from tensorflow.keras import layers\n",
    "import matplotlib.pyplot as plt\n",
    "import tensorflow_docs as tfdocs\n",
    "import tensorflow_docs.plots\n",
    "import tensorflow_docs.modeling"
   ]
  },
  {
   "cell_type": "markdown",
   "metadata": {},
   "source": [
    "Load the data"
   ]
  },
  {
   "cell_type": "code",
   "execution_count": 81,
   "metadata": {},
   "outputs": [
    {
     "name": "stdout",
     "output_type": "stream",
     "text": [
      "<bound method NDFrame.head of      Serial_No  GRE_Score  TOEFL_Score  University_Rating  SOP  LOR   CGPA  \\\n",
      "0            1        337          118                  4  4.5   4.5  9.65   \n",
      "1            2        324          107                  4  4.0   4.5  8.87   \n",
      "2            3        316          104                  3  3.0   3.5  8.00   \n",
      "3            4        322          110                  3  3.5   2.5  8.67   \n",
      "4            5        314          103                  2  2.0   3.0  8.21   \n",
      "..         ...        ...          ...                ...  ...   ...   ...   \n",
      "395        396        324          110                  3  3.5   3.5  9.04   \n",
      "396        397        325          107                  3  3.0   3.5  9.11   \n",
      "397        398        330          116                  4  5.0   4.5  9.45   \n",
      "398        399        312          103                  3  3.5   4.0  8.78   \n",
      "399        400        333          117                  4  5.0   4.0  9.66   \n",
      "\n",
      "     Rese  adm  \n",
      "0       1  1.0  \n",
      "1       1  1.0  \n",
      "2       1  1.0  \n",
      "3       1  1.0  \n",
      "4       0  1.0  \n",
      "..    ...  ...  \n",
      "395     1  1.0  \n",
      "396     1  1.0  \n",
      "397     1  1.0  \n",
      "398     0  1.0  \n",
      "399     1  1.0  \n",
      "\n",
      "[400 rows x 9 columns]>\n"
     ]
    }
   ],
   "source": [
    "data = pd.read_csv (r'adm.csv')   \n",
    "print (data.head)"
   ]
  },
  {
   "cell_type": "code",
   "execution_count": 82,
   "metadata": {},
   "outputs": [
    {
     "data": {
      "text/plain": [
       "Index(['Serial_No', 'GRE_Score', 'TOEFL_Score', 'University_Rating', 'SOP',\n",
       "       'LOR ', 'CGPA', 'Rese', 'adm'],\n",
       "      dtype='object')"
      ]
     },
     "execution_count": 82,
     "metadata": {},
     "output_type": "execute_result"
    }
   ],
   "source": [
    "data.columns"
   ]
  },
  {
   "cell_type": "code",
   "execution_count": 84,
   "metadata": {},
   "outputs": [
    {
     "data": {
      "text/plain": [
       "Serial_No              int64\n",
       "GRE_Score              int64\n",
       "TOEFL_Score            int64\n",
       "University_Rating      int64\n",
       "SOP                  float64\n",
       "LOR                  float64\n",
       "CGPA                 float64\n",
       "Rese                   int64\n",
       "adm                  float64\n",
       "dtype: object"
      ]
     },
     "execution_count": 84,
     "metadata": {},
     "output_type": "execute_result"
    }
   ],
   "source": [
    "data.dtypes"
   ]
  },
  {
   "cell_type": "markdown",
   "metadata": {},
   "source": [
    "convert the data type of the dataset"
   ]
  },
  {
   "cell_type": "code",
   "execution_count": 85,
   "metadata": {},
   "outputs": [
    {
     "data": {
      "text/plain": [
       "Serial_No            float64\n",
       "GRE_Score            float64\n",
       "TOEFL_Score          float64\n",
       "University_Rating    float64\n",
       "SOP                  float64\n",
       "LOR                  float64\n",
       "CGPA                 float64\n",
       "Rese                 float64\n",
       "adm                  float64\n",
       "dtype: object"
      ]
     },
     "execution_count": 85,
     "metadata": {},
     "output_type": "execute_result"
    }
   ],
   "source": [
    "data=data.astype(np.float64)\n",
    "data.dtypes"
   ]
  },
  {
   "cell_type": "markdown",
   "metadata": {},
   "source": [
    "Check if the data has missing values"
   ]
  },
  {
   "cell_type": "code",
   "execution_count": 86,
   "metadata": {},
   "outputs": [
    {
     "data": {
      "text/plain": [
       "Serial_No            0\n",
       "GRE_Score            0\n",
       "TOEFL_Score          0\n",
       "University_Rating    0\n",
       "SOP                  0\n",
       "LOR                  0\n",
       "CGPA                 0\n",
       "Rese                 0\n",
       "adm                  0\n",
       "dtype: int64"
      ]
     },
     "execution_count": 86,
     "metadata": {},
     "output_type": "execute_result"
    }
   ],
   "source": [
    "data.isna().sum()"
   ]
  },
  {
   "cell_type": "markdown",
   "metadata": {},
   "source": [
    "Split the dataset into test and train"
   ]
  },
  {
   "cell_type": "code",
   "execution_count": 87,
   "metadata": {},
   "outputs": [],
   "source": [
    "train_dataset= data.sample(frac=0.8,random_state=0)\n",
    "test_dataset= data.drop(train_dataset.index)"
   ]
  },
  {
   "cell_type": "code",
   "execution_count": 88,
   "metadata": {},
   "outputs": [
    {
     "data": {
      "text/html": [
       "<div>\n",
       "<style scoped>\n",
       "    .dataframe tbody tr th:only-of-type {\n",
       "        vertical-align: middle;\n",
       "    }\n",
       "\n",
       "    .dataframe tbody tr th {\n",
       "        vertical-align: top;\n",
       "    }\n",
       "\n",
       "    .dataframe thead th {\n",
       "        text-align: right;\n",
       "    }\n",
       "</style>\n",
       "<table border=\"1\" class=\"dataframe\">\n",
       "  <thead>\n",
       "    <tr style=\"text-align: right;\">\n",
       "      <th></th>\n",
       "      <th>Serial_No</th>\n",
       "      <th>GRE_Score</th>\n",
       "      <th>TOEFL_Score</th>\n",
       "      <th>University_Rating</th>\n",
       "      <th>SOP</th>\n",
       "      <th>LOR</th>\n",
       "      <th>CGPA</th>\n",
       "      <th>Rese</th>\n",
       "      <th>adm</th>\n",
       "    </tr>\n",
       "  </thead>\n",
       "  <tbody>\n",
       "    <tr>\n",
       "      <th>132</th>\n",
       "      <td>133.0</td>\n",
       "      <td>309.0</td>\n",
       "      <td>105.0</td>\n",
       "      <td>5.0</td>\n",
       "      <td>3.5</td>\n",
       "      <td>3.5</td>\n",
       "      <td>8.56</td>\n",
       "      <td>0.0</td>\n",
       "      <td>1.0</td>\n",
       "    </tr>\n",
       "    <tr>\n",
       "      <th>309</th>\n",
       "      <td>310.0</td>\n",
       "      <td>308.0</td>\n",
       "      <td>110.0</td>\n",
       "      <td>4.0</td>\n",
       "      <td>3.5</td>\n",
       "      <td>3.0</td>\n",
       "      <td>8.60</td>\n",
       "      <td>0.0</td>\n",
       "      <td>1.0</td>\n",
       "    </tr>\n",
       "    <tr>\n",
       "      <th>341</th>\n",
       "      <td>342.0</td>\n",
       "      <td>326.0</td>\n",
       "      <td>110.0</td>\n",
       "      <td>3.0</td>\n",
       "      <td>3.5</td>\n",
       "      <td>3.5</td>\n",
       "      <td>8.76</td>\n",
       "      <td>1.0</td>\n",
       "      <td>1.0</td>\n",
       "    </tr>\n",
       "    <tr>\n",
       "      <th>196</th>\n",
       "      <td>197.0</td>\n",
       "      <td>306.0</td>\n",
       "      <td>105.0</td>\n",
       "      <td>2.0</td>\n",
       "      <td>3.0</td>\n",
       "      <td>2.5</td>\n",
       "      <td>8.26</td>\n",
       "      <td>0.0</td>\n",
       "      <td>1.0</td>\n",
       "    </tr>\n",
       "    <tr>\n",
       "      <th>246</th>\n",
       "      <td>247.0</td>\n",
       "      <td>316.0</td>\n",
       "      <td>105.0</td>\n",
       "      <td>3.0</td>\n",
       "      <td>3.0</td>\n",
       "      <td>3.5</td>\n",
       "      <td>8.73</td>\n",
       "      <td>0.0</td>\n",
       "      <td>1.0</td>\n",
       "    </tr>\n",
       "    <tr>\n",
       "      <th>...</th>\n",
       "      <td>...</td>\n",
       "      <td>...</td>\n",
       "      <td>...</td>\n",
       "      <td>...</td>\n",
       "      <td>...</td>\n",
       "      <td>...</td>\n",
       "      <td>...</td>\n",
       "      <td>...</td>\n",
       "      <td>...</td>\n",
       "    </tr>\n",
       "    <tr>\n",
       "      <th>279</th>\n",
       "      <td>280.0</td>\n",
       "      <td>304.0</td>\n",
       "      <td>102.0</td>\n",
       "      <td>2.0</td>\n",
       "      <td>3.0</td>\n",
       "      <td>4.0</td>\n",
       "      <td>8.73</td>\n",
       "      <td>0.0</td>\n",
       "      <td>0.0</td>\n",
       "    </tr>\n",
       "    <tr>\n",
       "      <th>227</th>\n",
       "      <td>228.0</td>\n",
       "      <td>312.0</td>\n",
       "      <td>110.0</td>\n",
       "      <td>2.0</td>\n",
       "      <td>3.5</td>\n",
       "      <td>3.0</td>\n",
       "      <td>8.53</td>\n",
       "      <td>0.0</td>\n",
       "      <td>0.0</td>\n",
       "    </tr>\n",
       "    <tr>\n",
       "      <th>148</th>\n",
       "      <td>149.0</td>\n",
       "      <td>339.0</td>\n",
       "      <td>116.0</td>\n",
       "      <td>4.0</td>\n",
       "      <td>4.0</td>\n",
       "      <td>3.5</td>\n",
       "      <td>9.80</td>\n",
       "      <td>1.0</td>\n",
       "      <td>1.0</td>\n",
       "    </tr>\n",
       "    <tr>\n",
       "      <th>143</th>\n",
       "      <td>144.0</td>\n",
       "      <td>340.0</td>\n",
       "      <td>120.0</td>\n",
       "      <td>4.0</td>\n",
       "      <td>4.5</td>\n",
       "      <td>4.0</td>\n",
       "      <td>9.92</td>\n",
       "      <td>1.0</td>\n",
       "      <td>1.0</td>\n",
       "    </tr>\n",
       "    <tr>\n",
       "      <th>180</th>\n",
       "      <td>181.0</td>\n",
       "      <td>300.0</td>\n",
       "      <td>104.0</td>\n",
       "      <td>3.0</td>\n",
       "      <td>3.5</td>\n",
       "      <td>3.0</td>\n",
       "      <td>8.16</td>\n",
       "      <td>0.0</td>\n",
       "      <td>1.0</td>\n",
       "    </tr>\n",
       "  </tbody>\n",
       "</table>\n",
       "<p>320 rows × 9 columns</p>\n",
       "</div>"
      ],
      "text/plain": [
       "     Serial_No  GRE_Score  TOEFL_Score  University_Rating  SOP  LOR   CGPA  \\\n",
       "132      133.0      309.0        105.0                5.0  3.5   3.5  8.56   \n",
       "309      310.0      308.0        110.0                4.0  3.5   3.0  8.60   \n",
       "341      342.0      326.0        110.0                3.0  3.5   3.5  8.76   \n",
       "196      197.0      306.0        105.0                2.0  3.0   2.5  8.26   \n",
       "246      247.0      316.0        105.0                3.0  3.0   3.5  8.73   \n",
       "..         ...        ...          ...                ...  ...   ...   ...   \n",
       "279      280.0      304.0        102.0                2.0  3.0   4.0  8.73   \n",
       "227      228.0      312.0        110.0                2.0  3.5   3.0  8.53   \n",
       "148      149.0      339.0        116.0                4.0  4.0   3.5  9.80   \n",
       "143      144.0      340.0        120.0                4.0  4.5   4.0  9.92   \n",
       "180      181.0      300.0        104.0                3.0  3.5   3.0  8.16   \n",
       "\n",
       "     Rese  adm  \n",
       "132   0.0  1.0  \n",
       "309   0.0  1.0  \n",
       "341   1.0  1.0  \n",
       "196   0.0  1.0  \n",
       "246   0.0  1.0  \n",
       "..    ...  ...  \n",
       "279   0.0  0.0  \n",
       "227   0.0  0.0  \n",
       "148   1.0  1.0  \n",
       "143   1.0  1.0  \n",
       "180   0.0  1.0  \n",
       "\n",
       "[320 rows x 9 columns]"
      ]
     },
     "execution_count": 88,
     "metadata": {},
     "output_type": "execute_result"
    }
   ],
   "source": [
    "train_dataset"
   ]
  },
  {
   "cell_type": "code",
   "execution_count": 89,
   "metadata": {},
   "outputs": [
    {
     "name": "stdout",
     "output_type": "stream",
     "text": [
      "(320, 9)\n",
      "(80, 9)\n"
     ]
    }
   ],
   "source": [
    "print(train_dataset.shape)\n",
    "print(test_dataset.shape)"
   ]
  },
  {
   "cell_type": "code",
   "execution_count": 67,
   "metadata": {},
   "outputs": [
    {
     "data": {
      "text/plain": [
       "0      1.0\n",
       "1      1.0\n",
       "2      1.0\n",
       "3      1.0\n",
       "4      1.0\n",
       "      ... \n",
       "395    1.0\n",
       "396    1.0\n",
       "397    1.0\n",
       "398    1.0\n",
       "399    1.0\n",
       "Name: adm, Length: 400, dtype: float64"
      ]
     },
     "execution_count": 67,
     "metadata": {},
     "output_type": "execute_result"
    }
   ],
   "source": [
    "data.adm"
   ]
  },
  {
   "cell_type": "code",
   "execution_count": 69,
   "metadata": {},
   "outputs": [
    {
     "data": {
      "text/plain": [
       "<seaborn.axisgrid.PairGrid at 0x25c135d8b88>"
      ]
     },
     "execution_count": 69,
     "metadata": {},
     "output_type": "execute_result"
    },
    {
     "data": {
      "image/png": "[encoded data removed]",
      "text/plain": [
       "<Figure size 540x540 with 12 Axes>"
      ]
     },
     "metadata": {
      "needs_background": "light"
     },
     "output_type": "display_data"
    }
   ],
   "source": [
    "sns.pairplot(train_dataset[[\"adm\",\"GRE_Score\", \"TOEFL_Score\"]], diag_kind=\"kde\")\n"
   ]
  },
  {
   "cell_type": "code",
   "execution_count": 90,
   "metadata": {},
   "outputs": [],
   "source": [
    "train_labels = train_dataset.pop('adm')\n",
    "test_labels = test_dataset.pop('adm')"
   ]
  },
  {
   "cell_type": "code",
   "execution_count": 110,
   "metadata": {},
   "outputs": [],
   "source": [
    "model = keras.Sequential([\n",
    "    keras.layers.Flatten(input_shape=[len(train_dataset.keys())]),\n",
    "    keras.layers.Dense(16, activation=tf.nn.relu),\n",
    "\tkeras.layers.Dense(16, activation=tf.nn.relu),\n",
    "    keras.layers.Dense(1, activation=tf.nn.sigmoid),\n",
    "])\n",
    "model.compile(optimizer='adam',\n",
    "              loss='binary_crossentropy',\n",
    "              metrics=['accuracy'])"
   ]
  },
  {
   "cell_type": "code",
   "execution_count": 115,
   "metadata": {},
   "outputs": [
    {
     "name": "stdout",
     "output_type": "stream",
     "text": [
      "Train on 320 samples\n",
      "Epoch 1/50\n",
      "320/320 [==============================] - 0s 112us/sample - loss: 0.2604 - accuracy: 0.9031\n",
      "Epoch 2/50\n",
      "320/320 [==============================] - 0s 112us/sample - loss: 0.2700 - accuracy: 0.8875\n",
      "Epoch 3/50\n",
      "320/320 [==============================] - 0s 94us/sample - loss: 0.2776 - accuracy: 0.8750\n",
      "Epoch 4/50\n",
      "320/320 [==============================] - 0s 119us/sample - loss: 0.2773 - accuracy: 0.8875\n",
      "Epoch 5/50\n",
      "320/320 [==============================] - 0s 103us/sample - loss: 0.3063 - accuracy: 0.8469\n",
      "Epoch 6/50\n",
      "320/320 [==============================] - 0s 116us/sample - loss: 0.2650 - accuracy: 0.8906\n",
      "Epoch 7/50\n",
      "320/320 [==============================] - 0s 103us/sample - loss: 0.2712 - accuracy: 0.8969\n",
      "Epoch 8/50\n",
      "320/320 [==============================] - 0s 109us/sample - loss: 0.2727 - accuracy: 0.8844\n",
      "Epoch 9/50\n",
      "320/320 [==============================] - 0s 103us/sample - loss: 0.2735 - accuracy: 0.8750\n",
      "Epoch 10/50\n",
      "320/320 [==============================] - 0s 122us/sample - loss: 0.2740 - accuracy: 0.8813\n",
      "Epoch 11/50\n",
      "320/320 [==============================] - 0s 112us/sample - loss: 0.2710 - accuracy: 0.8906\n",
      "Epoch 12/50\n",
      "320/320 [==============================] - 0s 103us/sample - loss: 0.2912 - accuracy: 0.8750\n",
      "Epoch 13/50\n",
      "320/320 [==============================] - 0s 134us/sample - loss: 0.3110 - accuracy: 0.8813\n",
      "Epoch 14/50\n",
      "320/320 [==============================] - 0s 103us/sample - loss: 0.3008 - accuracy: 0.8687\n",
      "Epoch 15/50\n",
      "320/320 [==============================] - 0s 109us/sample - loss: 0.2666 - accuracy: 0.8750\n",
      "Epoch 16/50\n",
      "320/320 [==============================] - 0s 112us/sample - loss: 0.3264 - accuracy: 0.8531\n",
      "Epoch 17/50\n",
      "320/320 [==============================] - 0s 100us/sample - loss: 0.2855 - accuracy: 0.8656\n",
      "Epoch 18/50\n",
      "320/320 [==============================] - 0s 100us/sample - loss: 0.2904 - accuracy: 0.8813\n",
      "Epoch 19/50\n",
      "320/320 [==============================] - 0s 103us/sample - loss: 0.2788 - accuracy: 0.8906\n",
      "Epoch 20/50\n",
      "320/320 [==============================] - 0s 112us/sample - loss: 0.2802 - accuracy: 0.8656\n",
      "Epoch 21/50\n",
      "320/320 [==============================] - 0s 119us/sample - loss: 0.2658 - accuracy: 0.8938\n",
      "Epoch 22/50\n",
      "320/320 [==============================] - 0s 119us/sample - loss: 0.2666 - accuracy: 0.8906\n",
      "Epoch 23/50\n",
      "320/320 [==============================] - 0s 116us/sample - loss: 0.2831 - accuracy: 0.8687\n",
      "Epoch 24/50\n",
      "320/320 [==============================] - 0s 119us/sample - loss: 0.2862 - accuracy: 0.8531\n",
      "Epoch 25/50\n",
      "320/320 [==============================] - 0s 112us/sample - loss: 0.2589 - accuracy: 0.8938\n",
      "Epoch 26/50\n",
      "320/320 [==============================] - 0s 125us/sample - loss: 0.2700 - accuracy: 0.8719\n",
      "Epoch 27/50\n",
      "320/320 [==============================] - 0s 119us/sample - loss: 0.2757 - accuracy: 0.8750\n",
      "Epoch 28/50\n",
      "320/320 [==============================] - 0s 112us/sample - loss: 0.2617 - accuracy: 0.8906\n",
      "Epoch 29/50\n",
      "320/320 [==============================] - 0s 109us/sample - loss: 0.2593 - accuracy: 0.8938\n",
      "Epoch 30/50\n",
      "320/320 [==============================] - 0s 97us/sample - loss: 0.2702 - accuracy: 0.8906\n",
      "Epoch 31/50\n",
      "320/320 [==============================] - 0s 94us/sample - loss: 0.2826 - accuracy: 0.8844\n",
      "Epoch 32/50\n",
      "320/320 [==============================] - 0s 116us/sample - loss: 0.2544 - accuracy: 0.8906\n",
      "Epoch 33/50\n",
      "320/320 [==============================] - 0s 116us/sample - loss: 0.3187 - accuracy: 0.8562\n",
      "Epoch 34/50\n",
      "320/320 [==============================] - 0s 106us/sample - loss: 0.3127 - accuracy: 0.8500\n",
      "Epoch 35/50\n",
      "320/320 [==============================] - 0s 122us/sample - loss: 0.3218 - accuracy: 0.8344\n",
      "Epoch 36/50\n",
      "320/320 [==============================] - 0s 109us/sample - loss: 0.2851 - accuracy: 0.8906\n",
      "Epoch 37/50\n",
      "320/320 [==============================] - 0s 122us/sample - loss: 0.2977 - accuracy: 0.8562\n",
      "Epoch 38/50\n",
      "320/320 [==============================] - 0s 106us/sample - loss: 0.2949 - accuracy: 0.8781\n",
      "Epoch 39/50\n",
      "320/320 [==============================] - 0s 87us/sample - loss: 0.2951 - accuracy: 0.8687\n",
      "Epoch 40/50\n",
      "320/320 [==============================] - 0s 128us/sample - loss: 0.3448 - accuracy: 0.8500\n",
      "Epoch 41/50\n",
      "320/320 [==============================] - 0s 112us/sample - loss: 0.3467 - accuracy: 0.8281\n",
      "Epoch 42/50\n",
      "320/320 [==============================] - 0s 128us/sample - loss: 0.3082 - accuracy: 0.8656\n",
      "Epoch 43/50\n",
      "320/320 [==============================] - 0s 122us/sample - loss: 0.2680 - accuracy: 0.8844\n",
      "Epoch 44/50\n",
      "320/320 [==============================] - 0s 112us/sample - loss: 0.2745 - accuracy: 0.8813\n",
      "Epoch 45/50\n",
      "320/320 [==============================] - 0s 134us/sample - loss: 0.3276 - accuracy: 0.8469\n",
      "Epoch 46/50\n",
      "320/320 [==============================] - 0s 109us/sample - loss: 0.2988 - accuracy: 0.8813\n",
      "Epoch 47/50\n",
      "320/320 [==============================] - 0s 116us/sample - loss: 0.3111 - accuracy: 0.8625\n",
      "Epoch 48/50\n",
      "320/320 [==============================] - 0s 112us/sample - loss: 0.3010 - accuracy: 0.8813\n",
      "Epoch 49/50\n",
      "320/320 [==============================] - 0s 103us/sample - loss: 0.2780 - accuracy: 0.8875\n",
      "Epoch 50/50\n",
      "320/320 [==============================] - 0s 103us/sample - loss: 0.2599 - accuracy: 0.8938\n"
     ]
    },
    {
     "data": {
      "text/plain": [
       "<tensorflow.python.keras.callbacks.History at 0x25c1a8ce1c8>"
      ]
     },
     "execution_count": 115,
     "metadata": {},
     "output_type": "execute_result"
    }
   ],
   "source": [
    "\n",
    "model.fit(train_dataset, train_labels, epochs=50)\n"
   ]
  },
  {
   "cell_type": "code",
   "execution_count": 116,
   "metadata": {},
   "outputs": [
    {
     "name": "stdout",
     "output_type": "stream",
     "text": [
      "80/80 [==============================] - 0s 212us/sample - loss: 0.5615 - accuracy: 0.8000\n",
      "Test accuracy: 0.8\n"
     ]
    }
   ],
   "source": [
    "test_loss, test_acc = model.evaluate(test_dataset, test_labels)\n",
    "print('Test accuracy:', test_acc)"
   ]
  },
  {
   "cell_type": "code",
   "execution_count": 122,
   "metadata": {},
   "outputs": [
    {
     "data": {
      "text/plain": [
       "array([[9.99993801e-01],\n",
       "       [9.84856665e-01],\n",
       "       [4.59951861e-03],\n",
       "       [4.35287029e-01],\n",
       "       [9.18854356e-01],\n",
       "       [1.28337741e-02],\n",
       "       [3.04404289e-01],\n",
       "       [1.26432821e-01],\n",
       "       [9.74497736e-01],\n",
       "       [8.73532057e-01],\n",
       "       [9.09109861e-02],\n",
       "       [9.97407496e-01],\n",
       "       [9.97163951e-01],\n",
       "       [9.96980608e-01],\n",
       "       [9.92065489e-01],\n",
       "       [2.36999750e-01],\n",
       "       [7.99710035e-01],\n",
       "       [4.79027122e-01],\n",
       "       [9.55405474e-01],\n",
       "       [8.91558588e-01],\n",
       "       [8.23454440e-01],\n",
       "       [2.65888959e-01],\n",
       "       [3.77837718e-01],\n",
       "       [9.66613114e-01],\n",
       "       [4.82385695e-01],\n",
       "       [6.85420930e-01],\n",
       "       [9.88633752e-01],\n",
       "       [9.85616446e-01],\n",
       "       [9.99655843e-01],\n",
       "       [8.71963501e-01],\n",
       "       [9.97944891e-01],\n",
       "       [9.96945798e-01],\n",
       "       [9.97845411e-01],\n",
       "       [9.53131437e-01],\n",
       "       [9.77933705e-01],\n",
       "       [9.98273373e-01],\n",
       "       [9.99794781e-01],\n",
       "       [9.99751866e-01],\n",
       "       [8.78305137e-01],\n",
       "       [6.84911728e-01],\n",
       "       [9.99799311e-01],\n",
       "       [9.99842644e-01],\n",
       "       [9.95456934e-01],\n",
       "       [9.89125133e-01],\n",
       "       [9.89717841e-01],\n",
       "       [4.69212025e-01],\n",
       "       [4.56215769e-01],\n",
       "       [9.83214021e-01],\n",
       "       [9.26549852e-01],\n",
       "       [9.13163126e-01],\n",
       "       [9.92382824e-01],\n",
       "       [9.95150730e-02],\n",
       "       [2.08143011e-01],\n",
       "       [9.99901056e-01],\n",
       "       [9.47915852e-01],\n",
       "       [2.32996285e-01],\n",
       "       [1.13885164e-01],\n",
       "       [1.83546096e-02],\n",
       "       [3.99647266e-01],\n",
       "       [8.38536620e-01],\n",
       "       [8.10643062e-02],\n",
       "       [3.28375012e-01],\n",
       "       [9.55993116e-01],\n",
       "       [9.97232139e-01],\n",
       "       [9.99956608e-01],\n",
       "       [9.98441398e-01],\n",
       "       [4.65575285e-04],\n",
       "       [1.83577091e-03],\n",
       "       [8.65013421e-01],\n",
       "       [5.79211190e-02],\n",
       "       [9.66788232e-01],\n",
       "       [4.66834530e-02],\n",
       "       [9.99360144e-01],\n",
       "       [9.26074922e-01],\n",
       "       [1.14015089e-02],\n",
       "       [2.10053846e-01],\n",
       "       [9.99502420e-01],\n",
       "       [9.96181607e-01],\n",
       "       [2.69847333e-01],\n",
       "       [5.83039105e-01]], dtype=float32)"
      ]
     },
     "execution_count": 122,
     "metadata": {},
     "output_type": "execute_result"
    }
   ],
   "source": [
    "test_predictions = model.predict(test_dataset)\n",
    "\n",
    "test_predictions"
   ]
  },
  {
   "cell_type": "markdown",
   "metadata": {},
   "source": [
    "Conclusion: In this code, we build model based on Keras to classify the student admission"
   ]
  }
 ],
 "metadata": {
  "kernelspec": {
   "display_name": "Python 3",
   "language": "python",
   "name": "python3"
  },
  "language_info": {
   "codemirror_mode": {
    "name": "ipython",
    "version": 3
   },
   "file_extension": ".py",
   "mimetype": "text/x-python",
   "name": "python",
   "nbconvert_exporter": "python",
   "pygments_lexer": "ipython3",
   "version": "3.7.7"
  }
 },
 "nbformat": 4,
 "nbformat_minor": 4
}
